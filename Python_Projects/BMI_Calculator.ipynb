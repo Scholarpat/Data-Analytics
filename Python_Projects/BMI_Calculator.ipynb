{
 "cells": [
  {
   "cell_type": "markdown",
   "id": "87d0046c-0b2f-48a6-b312-08160a7c88e1",
   "metadata": {},
   "source": [
    "## **Project: BMI Calculator in Python**  \n",
    "\n",
    "This Python project calculates the **Body Mass Index (BMI)** based on a user's weight (in pounds) and height (in inches). The program then categorizes the BMI into different health ranges, providing feedback on the user's weight status and health recommendations.  \n",
    "\n",
    "### *Key Features:*\n",
    "🔹 Accepts user input for name, weight, and height   \n",
    "🔹 Calculates BMI using the formula: BMI = weight (lb) * 703 / height2 (inches)   \n",
    "🔹 Provides a classification of BMI categories: underweight, normal weight, overweight (with health advice), obese, severely obese, morbidly obese   \n",
    "🔹 Includes basic validation to ensure the input is valid  \n",
    "\n",
    "### *Lessons Learned & Skills Applied:*\n",
    "By working on this project, I improved my Python programming skills, particularly in:  \n",
    "🔹 Handling user input with `input()`  \n",
    "🔹 Using conditional statements (`if-elif-else`)  \n",
    "🔹 Performing mathematical calculations in Python  \n",
    "🔹 Providing user-friendly output based on computed results  \n",
    "\n",
    "This simple yet effective program showcases my ability to develop interactive Python applications that provide health-related insights. "
   ]
  },
  {
   "cell_type": "code",
   "execution_count": null,
   "id": "c4aeea01-b1a3-4940-ad53-cebc4ea11ad1",
   "metadata": {},
   "outputs": [],
   "source": []
  },
  {
   "cell_type": "code",
   "execution_count": 5,
   "id": "d14adfef-83a2-41c0-a1f2-555fdd7c3bae",
   "metadata": {},
   "outputs": [
    {
     "name": "stdin",
     "output_type": "stream",
     "text": [
      "Enter your name:  Ubong\n",
      "Enter your weight in pounds:  184\n",
      "Enter your height in inches:  64\n"
     ]
    },
    {
     "name": "stdout",
     "output_type": "stream",
     "text": [
      "Ubong, You are obese.\n",
      "Your BMI is: 31.580078125\n"
     ]
    }
   ],
   "source": [
    "name = input(\"Enter your name: \")\n",
    "\n",
    "weight = int(input(\"Enter your weight in pounds: \"))\n",
    "height = float(input(\"Enter your height in inches: \"))\n",
    "\n",
    "# Calculate BMI before using it in conditions\n",
    "BMI = (weight * 703) / (height * height)\n",
    "\n",
    "# Check and classify BMI\n",
    "if BMI > 0:\n",
    "    if BMI < 18.5:\n",
    "        print(name + \", You are underweight.\")\n",
    "    elif BMI <= 24.9:\n",
    "        print(name + \", You are normal weight.\")\n",
    "    elif BMI <= 29.9:\n",
    "        print(name + \", You are overweight. Stay active and avoid excessive alcohol consumption as it increases health risks.\")\n",
    "    elif BMI <= 34.9:\n",
    "        print(name + \", You are obese.\")\n",
    "    elif BMI <= 39.9:\n",
    "        print(name + \", You are severely obese.\")\n",
    "    else:\n",
    "        print(name + \", You are morbidly obese.\")\n",
    "else:\n",
    "    print(\"Enter valid input\")\n",
    "\n",
    "# Print calculated BMI\n",
    "print(\"Your BMI is:\", BMI)\n"
   ]
  },
  {
   "cell_type": "code",
   "execution_count": null,
   "id": "648376c9-cc00-4bcf-9515-71a47e616a34",
   "metadata": {},
   "outputs": [],
   "source": []
  },
  {
   "cell_type": "code",
   "execution_count": null,
   "id": "ec3cf24b-ef27-4cda-bbc0-8c44b6439fe1",
   "metadata": {},
   "outputs": [],
   "source": []
  },
  {
   "cell_type": "code",
   "execution_count": null,
   "id": "e4d52cf3-0460-46d2-931b-9d3577fa075c",
   "metadata": {},
   "outputs": [],
   "source": []
  },
  {
   "cell_type": "code",
   "execution_count": null,
   "id": "8c40184a-5a6c-4e0e-ad03-35c942bddc8d",
   "metadata": {},
   "outputs": [],
   "source": []
  }
 ],
 "metadata": {
  "kernelspec": {
   "display_name": "Python [conda env:base] *",
   "language": "python",
   "name": "conda-base-py"
  },
  "language_info": {
   "codemirror_mode": {
    "name": "ipython",
    "version": 3
   },
   "file_extension": ".py",
   "mimetype": "text/x-python",
   "name": "python",
   "nbconvert_exporter": "python",
   "pygments_lexer": "ipython3",
   "version": "3.12.7"
  }
 },
 "nbformat": 4,
 "nbformat_minor": 5
}
