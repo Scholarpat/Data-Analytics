{
 "cells": [
  {
   "cell_type": "markdown",
   "id": "092cf09c-cc76-4217-86ab-98f0eca76abd",
   "metadata": {},
   "source": [
    "## Project: Automated File Organizer in Python\n",
    "\n",
    "This Python project automates file organization by sorting files into designated folders based on their extensions. It scans a specified directory, identifies file types (such as PDFs, Word documents, images, videos, and spreadsheets), and moves them into corresponding folders. The script first check if the folders exist already, If the folders do not exist, the script automatically creates them. \n",
    "\n",
    "### *Key Features:* \n",
    "🔹Automatically categorizes files into predefined folders  \n",
    "🔹Moves files based on extensions (e.g., `.pdf`, `.docx`, `.jpg`, `.mp4`)  \n",
    "🔹Creates missing folders dynamically  \n",
    "🔹Reduces manual effort in organizing files  \n",
    "\n",
    "This project showcases Python automation using the `os` and `shutil` modules, making file management more efficient.\n",
    "\n",
    "### *Lessons Learned & Skills Applied:*\n",
    "By carrying out this project, I have been able to enhance my Python programming skills, particularly in file handling and automation. I have learned how to efficiently manipulate file directories, use conditionals to filter files based on extensions, and implement error handling to prevent file duplication. This experience has strengthened my ability to develop practical automation solutions that improve productivity and workflow efficiency. "
   ]
  },
  {
   "cell_type": "code",
   "execution_count": 9,
   "id": "6e67593c-3cab-4fd8-b503-94a835d2066a",
   "metadata": {},
   "outputs": [],
   "source": [
    "import os, shutil"
   ]
  },
  {
   "cell_type": "code",
   "execution_count": 11,
   "id": "0e6f3b69-9750-43b7-8ee3-87fbc453f2e2",
   "metadata": {},
   "outputs": [],
   "source": [
    "path = r\"C:/Users/G-LIGHT/OneDrive/Documents/Python_tutorial/\""
   ]
  },
  {
   "cell_type": "code",
   "execution_count": 13,
   "id": "9d4dc38a-bc5d-415d-ae41-f69b7379ea81",
   "metadata": {},
   "outputs": [],
   "source": [
    "file_name = os.listdir(path)"
   ]
  },
  {
   "cell_type": "code",
   "execution_count": 15,
   "id": "b58fc218-efd1-4b86-ad26-1534dd7d1a70",
   "metadata": {},
   "outputs": [],
   "source": [
    "folder_names = ['PDF files', 'PowerPoint', 'Word doc', 'JPG files', 'PNG files', 'Excel files', 'OGG file', 'MP4 file' ]\n",
    "\n",
    "for loop in range(0,8):\n",
    "    if not os.path.exists(path + folder_names[loop]):\n",
    "        os.makedirs(path + folder_names[loop])"
   ]
  },
  {
   "cell_type": "code",
   "execution_count": 17,
   "id": "715f28ad-7433-41cf-90d3-acb42e436810",
   "metadata": {},
   "outputs": [],
   "source": [
    "for file in file_name:\n",
    "    if \".pdf\" in file and not os.path.exists(path + \"PDF files/\" + file):\n",
    "        shutil.move(path + file, path + \"PDF files/\" + file)\n",
    "    elif \".pptx\" in file and not os.path.exists(path + \"PowerPoint/\" + file):\n",
    "        shutil.move(path + file, path + \"PowerPoint/\" + file)\n",
    "    elif \".docx\" in file and not os.path.exists(path + \"Word doc/\" + file):\n",
    "        shutil.move(path + file, path + \"Word doc/\" + file)\n",
    "    elif \".JPG\" in file and not os.path.exists(path + \"JPG files/\" + file):\n",
    "        shutil.move(path + file, path + \"JPG files/\" + file)\n",
    "    elif \".png\" in file and not os.path.exists(path + \"PNG files/\" + file):\n",
    "        shutil.move(path + file, path + \"PNG files/\" + file)\n",
    "    elif \".xlsx\" in file and not os.path.exists(path + \"Excel files/\" + file):\n",
    "        shutil.move(path + file, path + \"Excel files/\" + file)\n",
    "    elif \".ogg\" in file and not os.path.exists(path + \"OGG file/\" + file):\n",
    "        shutil.move(path + file, path + \"OGG file/\" + file)\n",
    "    elif \"mp4\" in file and not os.path.exists(path + \"MP4 file/\" + file):\n",
    "        shutil.move(path + file, path + \"MP4 file/\" + file)\n",
    "   "
   ]
  },
  {
   "cell_type": "code",
   "execution_count": null,
   "id": "0827b200-5bc6-44cc-8dcd-33478a43b3d4",
   "metadata": {},
   "outputs": [],
   "source": []
  },
  {
   "cell_type": "code",
   "execution_count": null,
   "id": "90e5451b-a702-4760-9da0-6bf0b338709c",
   "metadata": {},
   "outputs": [],
   "source": []
  },
  {
   "cell_type": "code",
   "execution_count": null,
   "id": "63b4f22e-33f8-4f80-9485-9d3f9493d51a",
   "metadata": {},
   "outputs": [],
   "source": []
  },
  {
   "cell_type": "code",
   "execution_count": null,
   "id": "d4e2fd12-2942-490a-8f2c-cab38fb48bda",
   "metadata": {},
   "outputs": [],
   "source": []
  },
  {
   "cell_type": "code",
   "execution_count": null,
   "id": "0c94a45a-6087-46d2-b5e9-efd595fb3626",
   "metadata": {},
   "outputs": [],
   "source": []
  },
  {
   "cell_type": "code",
   "execution_count": null,
   "id": "4e38977d-4e5f-473f-ad44-e2136daa4011",
   "metadata": {},
   "outputs": [],
   "source": []
  }
 ],
 "metadata": {
  "kernelspec": {
   "display_name": "Python [conda env:base] *",
   "language": "python",
   "name": "conda-base-py"
  },
  "language_info": {
   "codemirror_mode": {
    "name": "ipython",
    "version": 3
   },
   "file_extension": ".py",
   "mimetype": "text/x-python",
   "name": "python",
   "nbconvert_exporter": "python",
   "pygments_lexer": "ipython3",
   "version": "3.12.7"
  }
 },
 "nbformat": 4,
 "nbformat_minor": 5
}
